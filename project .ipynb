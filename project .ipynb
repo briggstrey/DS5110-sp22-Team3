{
 "cells": [
  {
   "cell_type": "markdown",
   "metadata": {},
   "source": [
    "<img src=\"uva_seal.png\">  \n"
   ]
  },
  {
   "cell_type": "markdown",
   "metadata": {},
   "source": [
    "---\n",
    "# DS5110 Team 3 Project Code\n",
    "---\n",
    "### Trey Briggs, Julie Crowe, Keenan Kunc\n",
    "#### 25 February 2022\n",
    "---"
   ]
  },
  {
   "cell_type": "code",
   "execution_count": 28,
   "metadata": {},
   "outputs": [],
   "source": [
    "# import libraries\n",
    "from pyspark.sql import SparkSession\n",
    "from pyspark.sql import functions as F\n",
    "from pyspark.sql.functions import col,isnan, when, count\n",
    "\n",
    "# import data types\n",
    "from pyspark.sql.types import StructType, StructField, StringType, IntegerType\n"
   ]
  },
  {
   "cell_type": "code",
   "execution_count": 117,
   "metadata": {},
   "outputs": [],
   "source": [
    "# context manager\n",
    "spark = SparkSession.builder.getOrCreate()\n",
    "\n",
    "sc = spark.sparkContext\n",
    "\n",
    "from pyspark.sql import SparkSession\n",
    "\n",
    "spark = SparkSession.builder \\\n",
    "        .master(\"local\") \\\n",
    "        .appName(\"pspark_test\") \\\n",
    "        .getOrCreate()\n",
    "\n",
    "from pyspark.sql.functions import from_utc_timestamp\n",
    "from pyspark.sql.functions import from_unixtime\n",
    "from pyspark.sql.functions import date_format\n",
    "from pyspark.sql.functions import unix_timestamp\n",
    "from pyspark.sql.functions import min, max\n"
   ]
  },
  {
   "cell_type": "code",
   "execution_count": 3,
   "metadata": {},
   "outputs": [
    {
     "name": "stdout",
     "output_type": "stream",
     "text": [
      "root\n",
      " |-- id: string (nullable = true)\n",
      " |-- user: string (nullable = true)\n",
      " |-- fullname: string (nullable = true)\n",
      " |-- url: string (nullable = true)\n",
      " |-- timestamp: string (nullable = true)\n",
      " |-- replies: string (nullable = true)\n",
      " |-- likes: string (nullable = true)\n",
      " |-- retweets: string (nullable = true)\n",
      " |-- text: string (nullable = true)\n",
      "\n"
     ]
    }
   ],
   "source": [
    "path = 'tweets.csv'\n",
    "\n",
    "df = spark.read.\\\n",
    "    format(\"csv\").\\\n",
    "    option(\"delimiter\", \";\").\\\n",
    "    option(\"header\", \"true\").\\\n",
    "    option(\"inferSchema\", \"true\").load(path)\n",
    "df.printSchema()"
   ]
  },
  {
   "cell_type": "code",
   "execution_count": 4,
   "metadata": {},
   "outputs": [
    {
     "name": "stdout",
     "output_type": "stream",
     "text": [
      "+-------------------+-------------+-------------------+----+----------------------+-------+-----+--------+--------------------------------------------------------------------------------------------------------------------------------------------------------------------------------------------------------------------------------------+\n",
      "|id                 |user         |fullname           |url |timestamp             |replies|likes|retweets|text                                                                                                                                                                                                                                  |\n",
      "+-------------------+-------------+-------------------+----+----------------------+-------+-----+--------+--------------------------------------------------------------------------------------------------------------------------------------------------------------------------------------------------------------------------------------+\n",
      "|1132977055300300800|KamdemAbdiel |Abdiel kamdem      |null|2019-05-27 11:49:14+00|0      |0    |0       |È appena uscito un nuovo video! LES CRYPTOMONNAIES QUI PULVÉRISENT BITCOIN EN 2019 https://t.co/yCsQMvRnyS                                                                                                                            |\n",
      "|1132977073402736640|bitcointe    |Bitcointe          |null|2019-05-27 11:49:18+00|0      |0    |0       |Cardano: Digitize Currencies; EOS https://t.co/1kTKqKEBlS 6500% ROI; AT&amp;T Bitcoin Bill Pay https://t.co/eQCwOXKHK0   |  Cardano (ADA) 🌏📢😎🤑💵 | #FolloForFolloBack #follo4folloback #followforfollow #bitcointe #cryptocurrency|\n",
      "|1132977023893139456|3eyedbran    |Bran - 3 Eyed Raven|null|2019-05-27 11:49:06+00|0      |2    |1       |Another Test tweet that wasn't caught in the stream ! bitcoin                                                                                                                                                                         |\n",
      "|1132977089089556481|DetroitCrypto|J. Scardina        |null|2019-05-27 11:49:22+00|0      |0    |0       |Current Crypto Prices!                                                                                                                                                                                                                |\n",
      "|BTC: $8721.99 USD  |null         |null               |null|null                  |null   |null |null    |null                                                                                                                                                                                                                                  |\n",
      "|ETH: $266.62 USD   |null         |null               |null|null                  |null   |null |null    |null                                                                                                                                                                                                                                  |\n",
      "|LTC: $114.03 USD   |null         |null               |null|null                  |null   |null |null    |null                                                                                                                                                                                                                                  |\n",
      "|BCH: $432.02 USD   |null         |null               |null|null                  |null   |null |null    |null                                                                                                                                                                                                                                  |\n",
      "|XLM: $0.133 USD    |null         |null               |null|null                  |null   |null |null    |null                                                                                                                                                                                                                                  |\n",
      "|DOGE: $ 0.00314 USD|null         |null               |null|null                  |null   |null |null    |null                                                                                                                                                                                                                                  |\n",
      "+-------------------+-------------+-------------------+----+----------------------+-------+-----+--------+--------------------------------------------------------------------------------------------------------------------------------------------------------------------------------------------------------------------------------------+\n",
      "only showing top 10 rows\n",
      "\n"
     ]
    }
   ],
   "source": [
    "df.show(10, False)"
   ]
  },
  {
   "cell_type": "markdown",
   "metadata": {},
   "source": [
    "Number of records  \n",
    " \n",
    "Statistical summary of response variable  \n",
    "Statistical summary of potential predictor variables (if there are a large number of predictors, select the top 10)  \n",
    "Note: Summarize categorical variables with counts and percentages for each level and summarize numerical variables with mean/quantiles/standard deviation.  \n",
    "Include up to five helpful graphs  "
   ]
  },
  {
   "cell_type": "code",
   "execution_count": 5,
   "metadata": {},
   "outputs": [
    {
     "data": {
      "text/plain": [
       "40152515"
      ]
     },
     "execution_count": 5,
     "metadata": {},
     "output_type": "execute_result"
    }
   ],
   "source": [
    "df.count()"
   ]
  },
  {
   "cell_type": "markdown",
   "metadata": {},
   "source": [
    "Number of columns "
   ]
  },
  {
   "cell_type": "code",
   "execution_count": 6,
   "metadata": {},
   "outputs": [
    {
     "data": {
      "text/plain": [
       "9"
      ]
     },
     "execution_count": 6,
     "metadata": {},
     "output_type": "execute_result"
    }
   ],
   "source": [
    "len(df.columns)"
   ]
  },
  {
   "cell_type": "markdown",
   "metadata": {},
   "source": [
    "Statistical summary of potential predictor variables (if there are a large number of predictors, select the top 10)  \n",
    "Note: Summarize categorical variables with counts and percentages for each level and summarize numerical variables with mean/quantiles/standard deviation."
   ]
  },
  {
   "cell_type": "code",
   "execution_count": 7,
   "metadata": {},
   "outputs": [],
   "source": [
    "#df.describe().show()"
   ]
  },
  {
   "cell_type": "code",
   "execution_count": 8,
   "metadata": {},
   "outputs": [
    {
     "name": "stdout",
     "output_type": "stream",
     "text": [
      "+-------+--------------------+\n",
      "|summary|            retweets|\n",
      "+-------+--------------------+\n",
      "|  count|            16893092|\n",
      "|   mean|  1.0487755215743861|\n",
      "| stddev|   86.04669974795793|\n",
      "|    min|                    |\n",
      "|    max|ves  y sigue la r...|\n",
      "+-------+--------------------+\n",
      "\n"
     ]
    }
   ],
   "source": [
    "df.describe(['retweets']).show()"
   ]
  },
  {
   "cell_type": "code",
   "execution_count": 9,
   "metadata": {},
   "outputs": [
    {
     "name": "stdout",
     "output_type": "stream",
     "text": [
      "+---+--------+--------+--------+---------+--------+--------+--------+--------+\n",
      "| id|    user|fullname|     url|timestamp| replies|   likes|retweets|    text|\n",
      "+---+--------+--------+--------+---------+--------+--------+--------+--------+\n",
      "|241|22830824|23174141|36862014| 23256898|23258305|23258743|23259423|23260368|\n",
      "+---+--------+--------+--------+---------+--------+--------+--------+--------+\n",
      "\n"
     ]
    }
   ],
   "source": [
    "df.select([count(when(isnan(c) | col(c).isNull(), c)).alias(c) for c in df.columns]\n",
    "   ).show()"
   ]
  },
  {
   "cell_type": "code",
   "execution_count": 10,
   "metadata": {},
   "outputs": [],
   "source": [
    "cols = ['id', 'user', 'timestamp', 'replies', 'likes', 'retweets', 'text']\n",
    "\n",
    "df2 = df.select(cols)\n"
   ]
  },
  {
   "cell_type": "code",
   "execution_count": 11,
   "metadata": {},
   "outputs": [
    {
     "data": {
      "text/plain": [
       "DataFrame[id: string, user: string, timestamp: string, replies: string, likes: string, retweets: string, text: string]"
      ]
     },
     "execution_count": 11,
     "metadata": {},
     "output_type": "execute_result"
    }
   ],
   "source": [
    "df_dropped = df2.na.drop()\n",
    "df_dropped.cache()"
   ]
  },
  {
   "cell_type": "code",
   "execution_count": 12,
   "metadata": {},
   "outputs": [
    {
     "name": "stdout",
     "output_type": "stream",
     "text": [
      "+-------------------+---------------+----------------------+-------+-----+--------+--------------------------------------------------------------------------------------------------------------------------------------------------------------------------------------------------------------------------------------+\n",
      "|id                 |user           |timestamp             |replies|likes|retweets|text                                                                                                                                                                                                                                  |\n",
      "+-------------------+---------------+----------------------+-------+-----+--------+--------------------------------------------------------------------------------------------------------------------------------------------------------------------------------------------------------------------------------------+\n",
      "|1132977055300300800|KamdemAbdiel   |2019-05-27 11:49:14+00|0      |0    |0       |È appena uscito un nuovo video! LES CRYPTOMONNAIES QUI PULVÉRISENT BITCOIN EN 2019 https://t.co/yCsQMvRnyS                                                                                                                            |\n",
      "|1132977073402736640|bitcointe      |2019-05-27 11:49:18+00|0      |0    |0       |Cardano: Digitize Currencies; EOS https://t.co/1kTKqKEBlS 6500% ROI; AT&amp;T Bitcoin Bill Pay https://t.co/eQCwOXKHK0   |  Cardano (ADA) 🌏📢😎🤑💵 | #FolloForFolloBack #follo4folloback #followforfollow #bitcointe #cryptocurrency|\n",
      "|1132977023893139456|3eyedbran      |2019-05-27 11:49:06+00|0      |2    |1       |Another Test tweet that wasn't caught in the stream ! bitcoin                                                                                                                                                                         |\n",
      "|1132977089089556481|DetroitCrypto  |2019-05-27 11:49:22+00|0      |0    |0       |Current Crypto Prices!                                                                                                                                                                                                                |\n",
      "|1132977092340191232|mmursaleen72   |2019-05-27 11:49:23+00|0      |0    |0       |Spiv (Nosar Baz): BITCOIN Is An Asset &amp; NOT A Currency.                                                                                                                                                                           |\n",
      "|1132977100309319680|0nurTOKA       |2019-05-27 11:49:25+00|0      |0    |0       |#btc inceldiği yerden kopsun bakalım 17:00 ye kadar bir hareket bekliyorum, yukarı yönlü olur umarın sanırım inşallah yani 😁 https://t.co/pIMyKfNtc8                                                                                 |\n",
      "|1132977101638897665|evilrobotted   |2019-05-27 11:49:25+00|0      |0    |0       |@nwoodfine We have been building on the real #bitcoin SV.                                                                                                                                                                             |\n",
      "|1132977108836323330|jabur_guilherme|2019-05-27 11:49:27+00|0      |0    |0       |@pedronauck como investidor, vc é um ótimo dev. Sorte q eu comprei os BTC, subiu a poha toda :o                                                                                                                                       |\n",
      "|1132977131850350593|INTBICON       |2019-05-27 11:49:32+00|0      |0    |0       |ブラジルはまぁ置いといてもドイツは存在感出してくるのかな。ロシアもマイニングなどで元気になるかと思ったらそこまででしたね。                                                                                                            |\n",
      "|1132977132714561536|MLWright15     |2019-05-27 11:49:32+00|0      |0    |0       |CHANGE IS COMING...GET READY!!! Boom, Another [CB] Jab, Nothing Can Stop This! Globalism at its end stage, [CB] push to make a one world govt. coming to an end.                                                                      |\n",
      "+-------------------+---------------+----------------------+-------+-----+--------+--------------------------------------------------------------------------------------------------------------------------------------------------------------------------------------------------------------------------------------+\n",
      "only showing top 10 rows\n",
      "\n"
     ]
    }
   ],
   "source": [
    "df_dropped.show(10, False)"
   ]
  },
  {
   "cell_type": "code",
   "execution_count": 100,
   "metadata": {},
   "outputs": [
    {
     "data": {
      "text/plain": [
       "16892858"
      ]
     },
     "execution_count": 100,
     "metadata": {},
     "output_type": "execute_result"
    }
   ],
   "source": [
    "df_dropped.count()"
   ]
  },
  {
   "cell_type": "code",
   "execution_count": 18,
   "metadata": {},
   "outputs": [
    {
     "name": "stdout",
     "output_type": "stream",
     "text": [
      "root\n",
      " |-- Timestamp: integer (nullable = true)\n",
      " |-- Open: double (nullable = true)\n",
      " |-- High: double (nullable = true)\n",
      " |-- Low: double (nullable = true)\n",
      " |-- Close: double (nullable = true)\n",
      " |-- Volume_(BTC): double (nullable = true)\n",
      " |-- Volume_(Currency): double (nullable = true)\n",
      " |-- Weighted_Price: double (nullable = true)\n",
      "\n"
     ]
    }
   ],
   "source": [
    "path2 = 'bitstampUSD_1-min_data_2012-01-01_to_2021-03-31.csv'\n",
    "\n",
    "bit_price = spark.read.\\\n",
    "    format(\"csv\").\\\n",
    "    option(\"delimiter\", \",\").\\\n",
    "    option(\"header\", \"true\").\\\n",
    "    option(\"inferSchema\", \"true\").load(path2)\n",
    "bit_price.printSchema()"
   ]
  },
  {
   "cell_type": "code",
   "execution_count": 19,
   "metadata": {},
   "outputs": [
    {
     "data": {
      "text/plain": [
       "['Timestamp',\n",
       " 'Open',\n",
       " 'High',\n",
       " 'Low',\n",
       " 'Close',\n",
       " 'Volume_(BTC)',\n",
       " 'Volume_(Currency)',\n",
       " 'Weighted_Price']"
      ]
     },
     "execution_count": 19,
     "metadata": {},
     "output_type": "execute_result"
    }
   ],
   "source": [
    "bit_price.tail(5)\n",
    "#bit_price.columns"
   ]
  },
  {
   "cell_type": "code",
   "execution_count": 73,
   "metadata": {},
   "outputs": [],
   "source": [
    "bit_price = bit_price.withColumn(\"StdDate\", from_unixtime(col(\"Timestamp\"), format='yyyy-MM-dd'))"
   ]
  },
  {
   "cell_type": "code",
   "execution_count": 74,
   "metadata": {},
   "outputs": [
    {
     "name": "stdout",
     "output_type": "stream",
     "text": [
      "+----------+----+----+----+-----+------------+-----------------+--------------+----------+\n",
      "| Timestamp|Open|High| Low|Close|Volume_(BTC)|Volume_(Currency)|Weighted_Price|   StdDate|\n",
      "+----------+----+----+----+-----+------------+-----------------+--------------+----------+\n",
      "|1325317920|4.39|4.39|4.39| 4.39|  0.45558087|     2.0000000193|          4.39|2011-12-31|\n",
      "|1325317980| NaN| NaN| NaN|  NaN|         NaN|              NaN|           NaN|2011-12-31|\n",
      "|1325318040| NaN| NaN| NaN|  NaN|         NaN|              NaN|           NaN|2011-12-31|\n",
      "|1325318100| NaN| NaN| NaN|  NaN|         NaN|              NaN|           NaN|2011-12-31|\n",
      "|1325318160| NaN| NaN| NaN|  NaN|         NaN|              NaN|           NaN|2011-12-31|\n",
      "+----------+----+----+----+-----+------------+-----------------+--------------+----------+\n",
      "only showing top 5 rows\n",
      "\n"
     ]
    }
   ],
   "source": [
    "bit_price.show(5)\n",
    "#Beginning timestamp: 1325317920--Beginning of Bitcoin Prices data\n",
    "#End timestamp: 1574467200--End of Tweets data"
   ]
  },
  {
   "cell_type": "code",
   "execution_count": 132,
   "metadata": {},
   "outputs": [],
   "source": [
    "bit_price_filter = bit_price.filter((bit_price[\"Timestamp\"] >= 1325317920) & (bit_price[\"Timestamp\"] <= 1574467200))"
   ]
  },
  {
   "cell_type": "code",
   "execution_count": 124,
   "metadata": {},
   "outputs": [
    {
     "name": "stdout",
     "output_type": "stream",
     "text": [
      "+----------+----+----+----+-----+------------+-----------------+--------------+----------+\n",
      "| Timestamp|Open|High| Low|Close|Volume_(BTC)|Volume_(Currency)|Weighted_Price|   StdDate|\n",
      "+----------+----+----+----+-----+------------+-----------------+--------------+----------+\n",
      "|1325317920|4.39|4.39|4.39| 4.39|  0.45558087|     2.0000000193|          4.39|2011-12-31|\n",
      "|1325317980| NaN| NaN| NaN|  NaN|         NaN|              NaN|           NaN|2011-12-31|\n",
      "|1325318040| NaN| NaN| NaN|  NaN|         NaN|              NaN|           NaN|2011-12-31|\n",
      "|1325318100| NaN| NaN| NaN|  NaN|         NaN|              NaN|           NaN|2011-12-31|\n",
      "|1325318160| NaN| NaN| NaN|  NaN|         NaN|              NaN|           NaN|2011-12-31|\n",
      "+----------+----+----+----+-----+------------+-----------------+--------------+----------+\n",
      "only showing top 5 rows\n",
      "\n"
     ]
    }
   ],
   "source": [
    "bit_price_filter.show(5)"
   ]
  },
  {
   "cell_type": "code",
   "execution_count": 133,
   "metadata": {},
   "outputs": [],
   "source": [
    "bit_price_na_drop = bit_price_filter.na.drop()\n",
    "price_grp = bit_price_na_drop.groupBy(\"StdDate\").avg(\"Weighted_Price\").sort(\"StdDate\", ascending = True)"
   ]
  },
  {
   "cell_type": "code",
   "execution_count": 126,
   "metadata": {},
   "outputs": [
    {
     "name": "stdout",
     "output_type": "stream",
     "text": [
      "+----------+-------------------+\n",
      "|   StdDate|avg(Weighted_Price)|\n",
      "+----------+-------------------+\n",
      "|2011-12-31|     4.471602874575|\n",
      "|2012-01-01|  4.806666666666667|\n",
      "|2012-01-02|                5.0|\n",
      "|2012-01-03|             5.2525|\n",
      "|2012-01-04|  5.208159313655556|\n",
      "+----------+-------------------+\n",
      "only showing top 5 rows\n",
      "\n"
     ]
    }
   ],
   "source": [
    "price_grp.show(5)"
   ]
  },
  {
   "cell_type": "code",
   "execution_count": 127,
   "metadata": {},
   "outputs": [],
   "source": [
    "df_date = df_dropped.withColumn(\"StdDate\", date_format(col(\"timestamp\"), \"yyyy-MM-dd\"))\n",
    "df_date = df_date.withColumn('UnixTimestamp', unix_timestamp(col('StdDate'), 'yyyy-MM-dd'))"
   ]
  },
  {
   "cell_type": "code",
   "execution_count": 128,
   "metadata": {},
   "outputs": [
    {
     "name": "stdout",
     "output_type": "stream",
     "text": [
      "+-------------------+-------------+--------------------+-------+-----+--------+--------------------+----------+-------------+\n",
      "|                 id|         user|           timestamp|replies|likes|retweets|                text|   StdDate|UnixTimestamp|\n",
      "+-------------------+-------------+--------------------+-------+-----+--------+--------------------+----------+-------------+\n",
      "|1132977055300300800| KamdemAbdiel|2019-05-27 11:49:...|      0|    0|       0|È appena uscito u...|2019-05-27|   1558915200|\n",
      "|1132977073402736640|    bitcointe|2019-05-27 11:49:...|      0|    0|       0|Cardano: Digitize...|2019-05-27|   1558915200|\n",
      "|1132977023893139456|    3eyedbran|2019-05-27 11:49:...|      0|    2|       1|Another Test twee...|2019-05-27|   1558915200|\n",
      "|1132977089089556481|DetroitCrypto|2019-05-27 11:49:...|      0|    0|       0|Current Crypto Pr...|2019-05-27|   1558915200|\n",
      "|1132977092340191232| mmursaleen72|2019-05-27 11:49:...|      0|    0|       0|Spiv (Nosar Baz):...|2019-05-27|   1558915200|\n",
      "+-------------------+-------------+--------------------+-------+-----+--------+--------------------+----------+-------------+\n",
      "only showing top 5 rows\n",
      "\n"
     ]
    }
   ],
   "source": [
    "df_date.show(5)"
   ]
  },
  {
   "cell_type": "code",
   "execution_count": 121,
   "metadata": {},
   "outputs": [
    {
     "name": "stdout",
     "output_type": "stream",
     "text": [
      "+--------------+\n",
      "|min(Timestamp)|\n",
      "+--------------+\n",
      "|    1325317920|\n",
      "+--------------+\n",
      "\n"
     ]
    }
   ],
   "source": [
    "#df_date.agg(min(df_date[\"UnixTimestamp\"])).show()\n",
    "bit_price.agg(min(bit_price[\"Timestamp\"])).show()"
   ]
  },
  {
   "cell_type": "code",
   "execution_count": 122,
   "metadata": {},
   "outputs": [
    {
     "name": "stdout",
     "output_type": "stream",
     "text": [
      "+--------------+\n",
      "|max(Timestamp)|\n",
      "+--------------+\n",
      "|    1617148800|\n",
      "+--------------+\n",
      "\n"
     ]
    }
   ],
   "source": [
    "#df_date.agg(max(df_date[\"UnixTimestamp\"])).show()\n",
    "bit_price.agg(max(bit_price[\"Timestamp\"])).show()"
   ]
  },
  {
   "cell_type": "code",
   "execution_count": 130,
   "metadata": {},
   "outputs": [],
   "source": [
    "df_time = df_date.filter((df_date[\"UnixTimestamp\"] >= 1325317920) & (df_date[\"UnixTimestamp\"] <= 1574467200))"
   ]
  },
  {
   "cell_type": "code",
   "execution_count": 131,
   "metadata": {},
   "outputs": [
    {
     "data": {
      "text/plain": [
       "16889437"
      ]
     },
     "execution_count": 131,
     "metadata": {},
     "output_type": "execute_result"
    }
   ],
   "source": [
    "df_time.count()"
   ]
  },
  {
   "cell_type": "code",
   "execution_count": 134,
   "metadata": {},
   "outputs": [],
   "source": [
    "final_df = df_time.join(price_grp,df_time[\"StdDate\"] == price_grp[\"StdDate\"],\"left\")"
   ]
  },
  {
   "cell_type": "code",
   "execution_count": 135,
   "metadata": {},
   "outputs": [
    {
     "name": "stdout",
     "output_type": "stream",
     "text": [
      "+------------------+---------------+--------------------+-------+-----+--------+--------------------+----------+-------------+----------+-------------------+\n",
      "|                id|           user|           timestamp|replies|likes|retweets|                text|   StdDate|UnixTimestamp|   StdDate|avg(Weighted_Price)|\n",
      "+------------------+---------------+--------------------+-------+-----+--------+--------------------+----------+-------------+----------+-------------------+\n",
      "|312067116096438273|JamesVancePhoto|2013-03-14 04:06:...|      0|    0|       1|@Btc_ImFree mixta...|2013-03-14|   1363219200|2013-03-14|  47.36082563895725|\n",
      "|312316656590389248|     falloutkez|2013-03-14 20:37:...|      0|    0|       0|Ellen btc is at 5:00|2013-03-14|   1363219200|2013-03-14|  47.36082563895725|\n",
      "|312365399960346624|    mtgoxtrades|2013-03-14 23:51:...|      0|    0|       0|Fri Mar 15 00:50:...|2013-03-14|   1363219200|2013-03-14|  47.36082563895725|\n",
      "|312294576759123968|      bcchanger|2013-03-14 19:10:...|      0|    0|       0|lamaestro wants t...|2013-03-14|   1363219200|2013-03-14|  47.36082563895725|\n",
      "|312172551017205760|      bcchanger|2013-03-14 11:05:...|      0|    0|       0|Cash4Coin wants t...|2013-03-14|   1363219200|2013-03-14|  47.36082563895725|\n",
      "+------------------+---------------+--------------------+-------+-----+--------+--------------------+----------+-------------+----------+-------------------+\n",
      "only showing top 5 rows\n",
      "\n"
     ]
    }
   ],
   "source": [
    "final_df.show(5)"
   ]
  },
  {
   "cell_type": "code",
   "execution_count": 136,
   "metadata": {},
   "outputs": [],
   "source": [
    "cols_keep = [\"id\", \"user\", \"timestamp\", \"replies\", \"likes\", 'retweets', 'text', 'avg(Weighted_Price)']\n",
    "final = final_df.select(cols_keep)"
   ]
  },
  {
   "cell_type": "code",
   "execution_count": 137,
   "metadata": {},
   "outputs": [
    {
     "name": "stdout",
     "output_type": "stream",
     "text": [
      "+------------------+---------------+--------------------+-------+-----+--------+--------------------+-------------------+\n",
      "|                id|           user|           timestamp|replies|likes|retweets|                text|avg(Weighted_Price)|\n",
      "+------------------+---------------+--------------------+-------+-----+--------+--------------------+-------------------+\n",
      "|312067116096438273|JamesVancePhoto|2013-03-14 04:06:...|      0|    0|       1|@Btc_ImFree mixta...|  47.36082563895725|\n",
      "|312316656590389248|     falloutkez|2013-03-14 20:37:...|      0|    0|       0|Ellen btc is at 5:00|  47.36082563895725|\n",
      "|312365399960346624|    mtgoxtrades|2013-03-14 23:51:...|      0|    0|       0|Fri Mar 15 00:50:...|  47.36082563895725|\n",
      "|312294576759123968|      bcchanger|2013-03-14 19:10:...|      0|    0|       0|lamaestro wants t...|  47.36082563895725|\n",
      "|312172551017205760|      bcchanger|2013-03-14 11:05:...|      0|    0|       0|Cash4Coin wants t...|  47.36082563895725|\n",
      "+------------------+---------------+--------------------+-------+-----+--------+--------------------+-------------------+\n",
      "only showing top 5 rows\n",
      "\n"
     ]
    }
   ],
   "source": [
    "final.show(5)"
   ]
  },
  {
   "cell_type": "code",
   "execution_count": 138,
   "metadata": {},
   "outputs": [],
   "source": [
    "#final.write.csv(\"output.csv\")"
   ]
  }
 ],
 "metadata": {
  "kernelspec": {
   "display_name": "DS 5110 Spark 3.1",
   "language": "python",
   "name": "ds5110_spark3.1"
  },
  "language_info": {
   "codemirror_mode": {
    "name": "ipython",
    "version": 3
   },
   "file_extension": ".py",
   "mimetype": "text/x-python",
   "name": "python",
   "nbconvert_exporter": "python",
   "pygments_lexer": "ipython3",
   "version": "3.7.10"
  }
 },
 "nbformat": 4,
 "nbformat_minor": 4
}
