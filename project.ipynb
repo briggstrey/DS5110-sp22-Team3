{
 "cells": [
  {
   "cell_type": "markdown",
   "metadata": {},
   "source": [
    "<img src=\"uva_seal.png\">  \n"
   ]
  },
  {
   "cell_type": "markdown",
   "metadata": {},
   "source": [
    "---\n",
    "# DS5110 Team 3 Project Code\n",
    "---\n",
    "### Trey Briggs, Julie Crowe, Keenan Kunc\n",
    "#### 25 February 2022\n",
    "---"
   ]
  },
  {
   "cell_type": "code",
   "execution_count": 1,
   "metadata": {},
   "outputs": [],
   "source": [
    "# import libraries\n",
    "from pyspark.sql import SparkSession\n",
    "from pyspark.sql import functions as F\n",
    "from pyspark.sql.functions import col,isnan, when, count\n",
    "\n",
    "# import data types\n",
    "from pyspark.sql.types import StructType, StructField, StringType, IntegerType\n"
   ]
  },
  {
   "cell_type": "code",
   "execution_count": 39,
   "metadata": {},
   "outputs": [],
   "source": [
    "# context manager\n",
    "spark = SparkSession.builder.getOrCreate()\n",
    "\n",
    "sc = spark.sparkContext\n",
    "\n",
    "from pyspark.sql import SparkSession\n",
    "\n",
    "spark = SparkSession.builder \\\n",
    "        .master(\"local\") \\\n",
    "        .appName(\"pspark_test\") \\\n",
    "        .getOrCreate()\n",
    "\n",
    "from pyspark.sql.functions import from_utc_timestamp\n",
    "from pyspark.sql.functions import from_unixtime\n",
    "from pyspark.sql.functions import date_format\n",
    "from pyspark.sql.functions import unix_timestamp\n",
    "from pyspark.sql.functions import min, max\n",
    "from pyspark.sql.functions import lag\n",
    "from pyspark.sql.window import Window"
   ]
  },
  {
   "cell_type": "code",
   "execution_count": 3,
   "metadata": {},
   "outputs": [
    {
     "name": "stdout",
     "output_type": "stream",
     "text": [
      "root\n",
      " |-- id: string (nullable = true)\n",
      " |-- user: string (nullable = true)\n",
      " |-- fullname: string (nullable = true)\n",
      " |-- url: string (nullable = true)\n",
      " |-- timestamp: string (nullable = true)\n",
      " |-- replies: string (nullable = true)\n",
      " |-- likes: string (nullable = true)\n",
      " |-- retweets: string (nullable = true)\n",
      " |-- text: string (nullable = true)\n",
      "\n"
     ]
    }
   ],
   "source": [
    "path = 'tweets.csv'\n",
    "\n",
    "df = spark.read.\\\n",
    "    format(\"csv\").\\\n",
    "    option(\"delimiter\", \";\").\\\n",
    "    option(\"header\", \"true\").\\\n",
    "    option(\"inferSchema\", \"true\").load(path)\n",
    "df.printSchema()"
   ]
  },
  {
   "cell_type": "code",
   "execution_count": 4,
   "metadata": {},
   "outputs": [
    {
     "name": "stdout",
     "output_type": "stream",
     "text": [
      "+-------------------+-------------+-------------------+----+----------------------+-------+-----+--------+--------------------------------------------------------------------------------------------------------------------------------------------------------------------------------------------------------------------------------------+\n",
      "|id                 |user         |fullname           |url |timestamp             |replies|likes|retweets|text                                                                                                                                                                                                                                  |\n",
      "+-------------------+-------------+-------------------+----+----------------------+-------+-----+--------+--------------------------------------------------------------------------------------------------------------------------------------------------------------------------------------------------------------------------------------+\n",
      "|1132977055300300800|KamdemAbdiel |Abdiel kamdem      |null|2019-05-27 11:49:14+00|0      |0    |0       |È appena uscito un nuovo video! LES CRYPTOMONNAIES QUI PULVÉRISENT BITCOIN EN 2019 https://t.co/yCsQMvRnyS                                                                                                                            |\n",
      "|1132977073402736640|bitcointe    |Bitcointe          |null|2019-05-27 11:49:18+00|0      |0    |0       |Cardano: Digitize Currencies; EOS https://t.co/1kTKqKEBlS 6500% ROI; AT&amp;T Bitcoin Bill Pay https://t.co/eQCwOXKHK0   |  Cardano (ADA) 🌏📢😎🤑💵 | #FolloForFolloBack #follo4folloback #followforfollow #bitcointe #cryptocurrency|\n",
      "|1132977023893139456|3eyedbran    |Bran - 3 Eyed Raven|null|2019-05-27 11:49:06+00|0      |2    |1       |Another Test tweet that wasn't caught in the stream ! bitcoin                                                                                                                                                                         |\n",
      "|1132977089089556481|DetroitCrypto|J. Scardina        |null|2019-05-27 11:49:22+00|0      |0    |0       |Current Crypto Prices!                                                                                                                                                                                                                |\n",
      "|BTC: $8721.99 USD  |null         |null               |null|null                  |null   |null |null    |null                                                                                                                                                                                                                                  |\n",
      "|ETH: $266.62 USD   |null         |null               |null|null                  |null   |null |null    |null                                                                                                                                                                                                                                  |\n",
      "|LTC: $114.03 USD   |null         |null               |null|null                  |null   |null |null    |null                                                                                                                                                                                                                                  |\n",
      "|BCH: $432.02 USD   |null         |null               |null|null                  |null   |null |null    |null                                                                                                                                                                                                                                  |\n",
      "|XLM: $0.133 USD    |null         |null               |null|null                  |null   |null |null    |null                                                                                                                                                                                                                                  |\n",
      "|DOGE: $ 0.00314 USD|null         |null               |null|null                  |null   |null |null    |null                                                                                                                                                                                                                                  |\n",
      "+-------------------+-------------+-------------------+----+----------------------+-------+-----+--------+--------------------------------------------------------------------------------------------------------------------------------------------------------------------------------------------------------------------------------------+\n",
      "only showing top 10 rows\n",
      "\n"
     ]
    }
   ],
   "source": [
    "df.show(10, False)"
   ]
  },
  {
   "cell_type": "markdown",
   "metadata": {},
   "source": [
    "Number of records  \n",
    " \n",
    "Statistical summary of response variable  \n",
    "Statistical summary of potential predictor variables (if there are a large number of predictors, select the top 10)  \n",
    "Note: Summarize categorical variables with counts and percentages for each level and summarize numerical variables with mean/quantiles/standard deviation.  \n",
    "Include up to five helpful graphs  "
   ]
  },
  {
   "cell_type": "code",
   "execution_count": 5,
   "metadata": {},
   "outputs": [],
   "source": [
    "#df.count()\n",
    "#40152515"
   ]
  },
  {
   "cell_type": "markdown",
   "metadata": {},
   "source": [
    "Number of columns "
   ]
  },
  {
   "cell_type": "code",
   "execution_count": 6,
   "metadata": {},
   "outputs": [
    {
     "data": {
      "text/plain": [
       "9"
      ]
     },
     "execution_count": 6,
     "metadata": {},
     "output_type": "execute_result"
    }
   ],
   "source": [
    "len(df.columns)"
   ]
  },
  {
   "cell_type": "markdown",
   "metadata": {},
   "source": [
    "Statistical summary of potential predictor variables (if there are a large number of predictors, select the top 10)  \n",
    "Note: Summarize categorical variables with counts and percentages for each level and summarize numerical variables with mean/quantiles/standard deviation."
   ]
  },
  {
   "cell_type": "code",
   "execution_count": 7,
   "metadata": {},
   "outputs": [],
   "source": [
    "#df.describe().show()\n",
    "#df.describe(['retweets']).show()"
   ]
  },
  {
   "cell_type": "code",
   "execution_count": 8,
   "metadata": {},
   "outputs": [],
   "source": [
    "#Counting null values in each column\n",
    "#df.select([count(when(isnan(c) | col(c).isNull(), c)).alias(c) for c in df.columns]\n",
    "#   ).show()\n",
    "#+---+--------+--------+--------+---------+--------+--------+--------+--------+\n",
    "#| id|    user|fullname|     url|timestamp| replies|   likes|retweets|    text|\n",
    "#+---+--------+--------+--------+---------+--------+--------+--------+--------+\n",
    "#|241|22830824|23174141|36862014| 23256898|23258305|23258743|23259423|23260368|\n",
    "#+---+--------+--------+--------+---------+--------+--------+--------+--------+"
   ]
  },
  {
   "cell_type": "code",
   "execution_count": 9,
   "metadata": {},
   "outputs": [],
   "source": [
    "cols = ['id', 'user', 'timestamp', 'replies', 'likes', 'retweets', 'text']\n",
    "\n",
    "df2 = df.select(cols)"
   ]
  },
  {
   "cell_type": "code",
   "execution_count": 10,
   "metadata": {},
   "outputs": [
    {
     "data": {
      "text/plain": [
       "DataFrame[id: string, user: string, timestamp: string, replies: string, likes: string, retweets: string, text: string]"
      ]
     },
     "execution_count": 10,
     "metadata": {},
     "output_type": "execute_result"
    }
   ],
   "source": [
    "df_dropped = df2.na.drop()\n",
    "df_dropped.cache()"
   ]
  },
  {
   "cell_type": "code",
   "execution_count": 11,
   "metadata": {},
   "outputs": [
    {
     "name": "stdout",
     "output_type": "stream",
     "text": [
      "+-------------------+---------------+----------------------+-------+-----+--------+--------------------------------------------------------------------------------------------------------------------------------------------------------------------------------------------------------------------------------------+\n",
      "|id                 |user           |timestamp             |replies|likes|retweets|text                                                                                                                                                                                                                                  |\n",
      "+-------------------+---------------+----------------------+-------+-----+--------+--------------------------------------------------------------------------------------------------------------------------------------------------------------------------------------------------------------------------------------+\n",
      "|1132977055300300800|KamdemAbdiel   |2019-05-27 11:49:14+00|0      |0    |0       |È appena uscito un nuovo video! LES CRYPTOMONNAIES QUI PULVÉRISENT BITCOIN EN 2019 https://t.co/yCsQMvRnyS                                                                                                                            |\n",
      "|1132977073402736640|bitcointe      |2019-05-27 11:49:18+00|0      |0    |0       |Cardano: Digitize Currencies; EOS https://t.co/1kTKqKEBlS 6500% ROI; AT&amp;T Bitcoin Bill Pay https://t.co/eQCwOXKHK0   |  Cardano (ADA) 🌏📢😎🤑💵 | #FolloForFolloBack #follo4folloback #followforfollow #bitcointe #cryptocurrency|\n",
      "|1132977023893139456|3eyedbran      |2019-05-27 11:49:06+00|0      |2    |1       |Another Test tweet that wasn't caught in the stream ! bitcoin                                                                                                                                                                         |\n",
      "|1132977089089556481|DetroitCrypto  |2019-05-27 11:49:22+00|0      |0    |0       |Current Crypto Prices!                                                                                                                                                                                                                |\n",
      "|1132977092340191232|mmursaleen72   |2019-05-27 11:49:23+00|0      |0    |0       |Spiv (Nosar Baz): BITCOIN Is An Asset &amp; NOT A Currency.                                                                                                                                                                           |\n",
      "|1132977100309319680|0nurTOKA       |2019-05-27 11:49:25+00|0      |0    |0       |#btc inceldiği yerden kopsun bakalım 17:00 ye kadar bir hareket bekliyorum, yukarı yönlü olur umarın sanırım inşallah yani 😁 https://t.co/pIMyKfNtc8                                                                                 |\n",
      "|1132977101638897665|evilrobotted   |2019-05-27 11:49:25+00|0      |0    |0       |@nwoodfine We have been building on the real #bitcoin SV.                                                                                                                                                                             |\n",
      "|1132977108836323330|jabur_guilherme|2019-05-27 11:49:27+00|0      |0    |0       |@pedronauck como investidor, vc é um ótimo dev. Sorte q eu comprei os BTC, subiu a poha toda :o                                                                                                                                       |\n",
      "|1132977131850350593|INTBICON       |2019-05-27 11:49:32+00|0      |0    |0       |ブラジルはまぁ置いといてもドイツは存在感出してくるのかな。ロシアもマイニングなどで元気になるかと思ったらそこまででしたね。                                                                                                            |\n",
      "|1132977132714561536|MLWright15     |2019-05-27 11:49:32+00|0      |0    |0       |CHANGE IS COMING...GET READY!!! Boom, Another [CB] Jab, Nothing Can Stop This! Globalism at its end stage, [CB] push to make a one world govt. coming to an end.                                                                      |\n",
      "+-------------------+---------------+----------------------+-------+-----+--------+--------------------------------------------------------------------------------------------------------------------------------------------------------------------------------------------------------------------------------------+\n",
      "only showing top 10 rows\n",
      "\n"
     ]
    }
   ],
   "source": [
    "df_dropped.show(10, False)"
   ]
  },
  {
   "cell_type": "code",
   "execution_count": 12,
   "metadata": {},
   "outputs": [],
   "source": [
    "#df_dropped.count()\n",
    "#16892858"
   ]
  },
  {
   "cell_type": "code",
   "execution_count": 13,
   "metadata": {},
   "outputs": [
    {
     "name": "stdout",
     "output_type": "stream",
     "text": [
      "root\n",
      " |-- Timestamp: integer (nullable = true)\n",
      " |-- Open: double (nullable = true)\n",
      " |-- High: double (nullable = true)\n",
      " |-- Low: double (nullable = true)\n",
      " |-- Close: double (nullable = true)\n",
      " |-- Volume_(BTC): double (nullable = true)\n",
      " |-- Volume_(Currency): double (nullable = true)\n",
      " |-- Weighted_Price: double (nullable = true)\n",
      "\n"
     ]
    }
   ],
   "source": [
    "path2 = 'bitstampUSD_1-min_data_2012-01-01_to_2021-03-31.csv'\n",
    "\n",
    "bit_price = spark.read.\\\n",
    "    format(\"csv\").\\\n",
    "    option(\"delimiter\", \",\").\\\n",
    "    option(\"header\", \"true\").\\\n",
    "    option(\"inferSchema\", \"true\").load(path2)\n",
    "bit_price.printSchema()"
   ]
  },
  {
   "cell_type": "code",
   "execution_count": 14,
   "metadata": {},
   "outputs": [
    {
     "data": {
      "text/plain": [
       "[Row(Timestamp=1617148560, Open=58714.31, High=58714.31, Low=58686.0, Close=58686.0, Volume_(BTC)=1.38448731, Volume_(Currency)=81259.372187, Weighted_Price=58692.753339),\n",
       " Row(Timestamp=1617148620, Open=58683.97, High=58693.43, Low=58683.97, Close=58685.81, Volume_(BTC)=7.29484767, Volume_(Currency)=428158.14664, Weighted_Price=58693.226508),\n",
       " Row(Timestamp=1617148680, Open=58693.43, High=58723.84, Low=58693.43, Close=58723.84, Volume_(BTC)=1.70568236, Volume_(Currency)=100117.07037, Weighted_Price=58696.198496),\n",
       " Row(Timestamp=1617148740, Open=58742.18, High=58770.38, Low=58742.18, Close=58760.59, Volume_(BTC)=0.72041549, Volume_(Currency)=42332.958633, Weighted_Price=58761.866202),\n",
       " Row(Timestamp=1617148800, Open=58767.75, High=58778.18, Low=58755.97, Close=58778.18, Volume_(BTC)=2.71283104, Volume_(Currency)=159417.751, Weighted_Price=58764.349363)]"
      ]
     },
     "execution_count": 14,
     "metadata": {},
     "output_type": "execute_result"
    }
   ],
   "source": [
    "bit_price.tail(5)\n",
    "#bit_price.columns"
   ]
  },
  {
   "cell_type": "code",
   "execution_count": 15,
   "metadata": {},
   "outputs": [],
   "source": [
    "bit_price = bit_price.withColumn(\"StdDate\", from_unixtime(col(\"Timestamp\"), format='yyyy-MM-dd'))"
   ]
  },
  {
   "cell_type": "code",
   "execution_count": 16,
   "metadata": {},
   "outputs": [
    {
     "name": "stdout",
     "output_type": "stream",
     "text": [
      "+----------+----+----+----+-----+------------+-----------------+--------------+----------+\n",
      "| Timestamp|Open|High| Low|Close|Volume_(BTC)|Volume_(Currency)|Weighted_Price|   StdDate|\n",
      "+----------+----+----+----+-----+------------+-----------------+--------------+----------+\n",
      "|1325317920|4.39|4.39|4.39| 4.39|  0.45558087|     2.0000000193|          4.39|2011-12-31|\n",
      "|1325317980| NaN| NaN| NaN|  NaN|         NaN|              NaN|           NaN|2011-12-31|\n",
      "|1325318040| NaN| NaN| NaN|  NaN|         NaN|              NaN|           NaN|2011-12-31|\n",
      "|1325318100| NaN| NaN| NaN|  NaN|         NaN|              NaN|           NaN|2011-12-31|\n",
      "|1325318160| NaN| NaN| NaN|  NaN|         NaN|              NaN|           NaN|2011-12-31|\n",
      "+----------+----+----+----+-----+------------+-----------------+--------------+----------+\n",
      "only showing top 5 rows\n",
      "\n"
     ]
    }
   ],
   "source": [
    "bit_price.show(5)\n",
    "#Beginning timestamp: 1325317920--Beginning of Bitcoin Prices data\n",
    "#End timestamp: 1574467200--End of Tweets data"
   ]
  },
  {
   "cell_type": "code",
   "execution_count": 17,
   "metadata": {},
   "outputs": [],
   "source": [
    "bit_price_filter = bit_price.filter((bit_price[\"Timestamp\"] >= 1325317920) & (bit_price[\"Timestamp\"] <= 1574467200))"
   ]
  },
  {
   "cell_type": "code",
   "execution_count": 18,
   "metadata": {},
   "outputs": [
    {
     "name": "stdout",
     "output_type": "stream",
     "text": [
      "+----------+----+----+----+-----+------------+-----------------+--------------+----------+\n",
      "| Timestamp|Open|High| Low|Close|Volume_(BTC)|Volume_(Currency)|Weighted_Price|   StdDate|\n",
      "+----------+----+----+----+-----+------------+-----------------+--------------+----------+\n",
      "|1325317920|4.39|4.39|4.39| 4.39|  0.45558087|     2.0000000193|          4.39|2011-12-31|\n",
      "|1325317980| NaN| NaN| NaN|  NaN|         NaN|              NaN|           NaN|2011-12-31|\n",
      "|1325318040| NaN| NaN| NaN|  NaN|         NaN|              NaN|           NaN|2011-12-31|\n",
      "|1325318100| NaN| NaN| NaN|  NaN|         NaN|              NaN|           NaN|2011-12-31|\n",
      "|1325318160| NaN| NaN| NaN|  NaN|         NaN|              NaN|           NaN|2011-12-31|\n",
      "+----------+----+----+----+-----+------------+-----------------+--------------+----------+\n",
      "only showing top 5 rows\n",
      "\n"
     ]
    }
   ],
   "source": [
    "bit_price_filter.show(5)"
   ]
  },
  {
   "cell_type": "code",
   "execution_count": 19,
   "metadata": {},
   "outputs": [],
   "source": [
    "bit_price_na_drop = bit_price_filter.na.drop()\n",
    "price_grp = bit_price_na_drop.groupBy(\"StdDate\").avg(\"Weighted_Price\").sort(\"StdDate\", ascending = True)"
   ]
  },
  {
   "cell_type": "code",
   "execution_count": 20,
   "metadata": {},
   "outputs": [
    {
     "name": "stdout",
     "output_type": "stream",
     "text": [
      "+----------+-------------------+\n",
      "|   StdDate|avg(Weighted_Price)|\n",
      "+----------+-------------------+\n",
      "|2011-12-31|     4.471602874575|\n",
      "|2012-01-01|  4.806666666666667|\n",
      "|2012-01-02|                5.0|\n",
      "|2012-01-03|             5.2525|\n",
      "|2012-01-04|  5.208159313655556|\n",
      "+----------+-------------------+\n",
      "only showing top 5 rows\n",
      "\n"
     ]
    }
   ],
   "source": [
    "price_grp.show(5)"
   ]
  },
  {
   "cell_type": "code",
   "execution_count": 43,
   "metadata": {},
   "outputs": [
    {
     "name": "stdout",
     "output_type": "stream",
     "text": [
      "+----------+-------------------+-----------------+--------------------+\n",
      "|   StdDate|avg(Weighted_Price)|     PrevDayPrice|           PriceDiff|\n",
      "+----------+-------------------+-----------------+--------------------+\n",
      "|2011-12-31|     4.471602874575|             null|                null|\n",
      "|2012-01-01|  4.806666666666667|   4.471602874575|  0.3350637920916668|\n",
      "|2012-01-02|                5.0|4.806666666666667| 0.19333333333333336|\n",
      "|2012-01-03|             5.2525|              5.0|  0.2525000000000004|\n",
      "|2012-01-04|  5.208159313655556|           5.2525|-0.04434068634444...|\n",
      "+----------+-------------------+-----------------+--------------------+\n",
      "only showing top 5 rows\n",
      "\n"
     ]
    }
   ],
   "source": [
    "window = Window.orderBy(\"StdDate\")\n",
    "price_2day = price_grp.withColumn(\"PrevDayPrice\", lag(col(\"avg(Weighted_Price)\")).over(window))\n",
    "price_diff = price_2day.withColumn(\"PriceDiff\", col(\"avg(Weighted_Price)\") - col(\"PrevDayPrice\"))\n",
    "price_diff.show(5)"
   ]
  },
  {
   "cell_type": "code",
   "execution_count": 21,
   "metadata": {},
   "outputs": [],
   "source": [
    "df_date = df_dropped.withColumn(\"StdDate\", date_format(col(\"timestamp\"), \"yyyy-MM-dd\"))\n",
    "df_date = df_date.withColumn('UnixTimestamp', unix_timestamp(col('StdDate'), 'yyyy-MM-dd'))"
   ]
  },
  {
   "cell_type": "code",
   "execution_count": 22,
   "metadata": {},
   "outputs": [
    {
     "name": "stdout",
     "output_type": "stream",
     "text": [
      "+-------------------+-------------+--------------------+-------+-----+--------+--------------------+----------+-------------+\n",
      "|                 id|         user|           timestamp|replies|likes|retweets|                text|   StdDate|UnixTimestamp|\n",
      "+-------------------+-------------+--------------------+-------+-----+--------+--------------------+----------+-------------+\n",
      "|1132977055300300800| KamdemAbdiel|2019-05-27 11:49:...|      0|    0|       0|È appena uscito u...|2019-05-27|   1558915200|\n",
      "|1132977073402736640|    bitcointe|2019-05-27 11:49:...|      0|    0|       0|Cardano: Digitize...|2019-05-27|   1558915200|\n",
      "|1132977023893139456|    3eyedbran|2019-05-27 11:49:...|      0|    2|       1|Another Test twee...|2019-05-27|   1558915200|\n",
      "|1132977089089556481|DetroitCrypto|2019-05-27 11:49:...|      0|    0|       0|Current Crypto Pr...|2019-05-27|   1558915200|\n",
      "|1132977092340191232| mmursaleen72|2019-05-27 11:49:...|      0|    0|       0|Spiv (Nosar Baz):...|2019-05-27|   1558915200|\n",
      "+-------------------+-------------+--------------------+-------+-----+--------+--------------------+----------+-------------+\n",
      "only showing top 5 rows\n",
      "\n"
     ]
    }
   ],
   "source": [
    "df_date.show(5)"
   ]
  },
  {
   "cell_type": "code",
   "execution_count": 23,
   "metadata": {},
   "outputs": [
    {
     "name": "stdout",
     "output_type": "stream",
     "text": [
      "+--------------+\n",
      "|min(Timestamp)|\n",
      "+--------------+\n",
      "|    1325317920|\n",
      "+--------------+\n",
      "\n"
     ]
    }
   ],
   "source": [
    "#df_date.agg(min(df_date[\"UnixTimestamp\"])).show()\n",
    "bit_price.agg(min(bit_price[\"Timestamp\"])).show()"
   ]
  },
  {
   "cell_type": "code",
   "execution_count": 24,
   "metadata": {},
   "outputs": [
    {
     "name": "stdout",
     "output_type": "stream",
     "text": [
      "+--------------+\n",
      "|max(Timestamp)|\n",
      "+--------------+\n",
      "|    1617148800|\n",
      "+--------------+\n",
      "\n"
     ]
    }
   ],
   "source": [
    "#df_date.agg(max(df_date[\"UnixTimestamp\"])).show()\n",
    "bit_price.agg(max(bit_price[\"Timestamp\"])).show()"
   ]
  },
  {
   "cell_type": "code",
   "execution_count": 25,
   "metadata": {},
   "outputs": [],
   "source": [
    "df_time = df_date.filter((df_date[\"UnixTimestamp\"] >= 1325317920) & (df_date[\"UnixTimestamp\"] <= 1574467200))"
   ]
  },
  {
   "cell_type": "code",
   "execution_count": 26,
   "metadata": {},
   "outputs": [],
   "source": [
    "#df_time.count()\n",
    "#16889437"
   ]
  },
  {
   "cell_type": "code",
   "execution_count": 44,
   "metadata": {},
   "outputs": [],
   "source": [
    "final_df = df_time.join(price_diff,df_time[\"StdDate\"] == price_diff[\"StdDate\"],\"left\")"
   ]
  },
  {
   "cell_type": "code",
   "execution_count": 45,
   "metadata": {},
   "outputs": [
    {
     "name": "stdout",
     "output_type": "stream",
     "text": [
      "+------------------+---------------+--------------------+-------+-----+--------+--------------------+----------+-------------+----------+-------------------+-----------------+------------------+\n",
      "|                id|           user|           timestamp|replies|likes|retweets|                text|   StdDate|UnixTimestamp|   StdDate|avg(Weighted_Price)|     PrevDayPrice|         PriceDiff|\n",
      "+------------------+---------------+--------------------+-------+-----+--------+--------------------+----------+-------------+----------+-------------------+-----------------+------------------+\n",
      "|312067116096438273|JamesVancePhoto|2013-03-14 04:06:...|      0|    0|       1|@Btc_ImFree mixta...|2013-03-14|   1363219200|2013-03-14|  47.36082563895725|46.22939937123764|1.1314262677196112|\n",
      "|312316656590389248|     falloutkez|2013-03-14 20:37:...|      0|    0|       0|Ellen btc is at 5:00|2013-03-14|   1363219200|2013-03-14|  47.36082563895725|46.22939937123764|1.1314262677196112|\n",
      "|312365399960346624|    mtgoxtrades|2013-03-14 23:51:...|      0|    0|       0|Fri Mar 15 00:50:...|2013-03-14|   1363219200|2013-03-14|  47.36082563895725|46.22939937123764|1.1314262677196112|\n",
      "|312294576759123968|      bcchanger|2013-03-14 19:10:...|      0|    0|       0|lamaestro wants t...|2013-03-14|   1363219200|2013-03-14|  47.36082563895725|46.22939937123764|1.1314262677196112|\n",
      "|312172551017205760|      bcchanger|2013-03-14 11:05:...|      0|    0|       0|Cash4Coin wants t...|2013-03-14|   1363219200|2013-03-14|  47.36082563895725|46.22939937123764|1.1314262677196112|\n",
      "+------------------+---------------+--------------------+-------+-----+--------+--------------------+----------+-------------+----------+-------------------+-----------------+------------------+\n",
      "only showing top 5 rows\n",
      "\n"
     ]
    }
   ],
   "source": [
    "final_df.show(5)"
   ]
  },
  {
   "cell_type": "code",
   "execution_count": 46,
   "metadata": {},
   "outputs": [],
   "source": [
    "cols_keep = [\"id\", \"user\", \"timestamp\", \"replies\", \"likes\", 'retweets', 'text', 'avg(Weighted_Price)', 'PriceDiff']\n",
    "final = final_df.select(cols_keep)"
   ]
  },
  {
   "cell_type": "code",
   "execution_count": 47,
   "metadata": {},
   "outputs": [
    {
     "name": "stdout",
     "output_type": "stream",
     "text": [
      "+------------------+---------------+--------------------+-------+-----+--------+--------------------+-------------------+------------------+\n",
      "|                id|           user|           timestamp|replies|likes|retweets|                text|avg(Weighted_Price)|         PriceDiff|\n",
      "+------------------+---------------+--------------------+-------+-----+--------+--------------------+-------------------+------------------+\n",
      "|312067116096438273|JamesVancePhoto|2013-03-14 04:06:...|      0|    0|       1|@Btc_ImFree mixta...|  47.36082563895725|1.1314262677196112|\n",
      "|312316656590389248|     falloutkez|2013-03-14 20:37:...|      0|    0|       0|Ellen btc is at 5:00|  47.36082563895725|1.1314262677196112|\n",
      "|312365399960346624|    mtgoxtrades|2013-03-14 23:51:...|      0|    0|       0|Fri Mar 15 00:50:...|  47.36082563895725|1.1314262677196112|\n",
      "|312294576759123968|      bcchanger|2013-03-14 19:10:...|      0|    0|       0|lamaestro wants t...|  47.36082563895725|1.1314262677196112|\n",
      "|312172551017205760|      bcchanger|2013-03-14 11:05:...|      0|    0|       0|Cash4Coin wants t...|  47.36082563895725|1.1314262677196112|\n",
      "+------------------+---------------+--------------------+-------+-----+--------+--------------------+-------------------+------------------+\n",
      "only showing top 5 rows\n",
      "\n"
     ]
    }
   ],
   "source": [
    "final.show(5)"
   ]
  },
  {
   "cell_type": "code",
   "execution_count": 48,
   "metadata": {},
   "outputs": [
    {
     "name": "stdout",
     "output_type": "stream",
     "text": [
      "+----------+-------------------+--------------------+-------+-----+--------+--------------------+-------------------+------------------+-----+\n",
      "|      user|                 id|           timestamp|replies|likes|retweets|                text|avg(Weighted_Price)|         PriceDiff|count|\n",
      "+----------+-------------------+--------------------+-------+-----+--------+--------------------+-------------------+------------------+-----+\n",
      "|00845ltham|1184924483460780037|2019-10-17 20:09:...|      0|    0|       0|jsuis vraiment en...|  8032.837878443989|-31.68501935851691|    2|\n",
      "|00845ltham|1188184882213801984|2019-10-26 20:05:...|      0|    0|       0|Ouaah bitcoin ça ...|  9318.768119687262|1438.1838009643898|    2|\n",
      "|   00_Yaft|1176775324937252864|2019-09-25 08:27:...|      0|    0|       0|        👇🏽👇🏽👇🏽|  8448.935015594026|-974.2917063462974|    2|\n",
      "|   00_Yaft|1176934240484769793|2019-09-25 18:59:...|      0|    0|       0|                #btc|  8448.935015594026|-974.2917063462974|    2|\n",
      "| 021LiveZA| 939106336754847744|2017-12-08 11:16:...|      0|    0|       0|What You Should K...| 15429.647898831276| 654.5888504277882|    1|\n",
      "+----------+-------------------+--------------------+-------+-----+--------+--------------------+-------------------+------------------+-----+\n",
      "only showing top 5 rows\n",
      "\n"
     ]
    }
   ],
   "source": [
    "#Getting number of tweets per user\n",
    "final_cts = final.join(final.groupBy('user').count(),on='user')\n",
    "final_cts.show(5)"
   ]
  },
  {
   "cell_type": "code",
   "execution_count": 59,
   "metadata": {},
   "outputs": [],
   "source": [
    "# final_cts.describe(['replies', 'retweets', 'likes', 'PriceDiff', 'count']).show()\n",
    "# +-------+------------------+------------------+------------------+-------------------+-----------------+\n",
    "# |summary|           replies|          retweets|             likes|          PriceDiff|            count|\n",
    "# +-------+------------------+------------------+------------------+-------------------+-----------------+\n",
    "# |  count|          16889437|          16889437|          16889437|           16887859|         16889437|\n",
    "# |   mean|0.3137957766146971|1.0478859656482333| 2.659858111315374|  6.223094560790429|7612.314038472686|\n",
    "# | stddev| 23.17431338674726| 86.02979304290486|146.72037225951092|  359.3747394185532|19308.80896621983|\n",
    "# |    min|                 0|                 0|                 0|-2462.9357976494157|                1|\n",
    "# |    max|               997|               999|               999|  2197.128696507658|           146639|\n",
    "# +-------+------------------+------------------+------------------+-------------------+-----------------+"
   ]
  },
  {
   "cell_type": "code",
   "execution_count": 60,
   "metadata": {},
   "outputs": [],
   "source": [
    "ex_pt = final_cts.filter(col(\"text\").contains(\"!\"))\n",
    "# ex_pt.describe(['replies', 'retweets', 'likes', 'PriceDiff', 'count']).show()\n",
    "# +-------+------------------+------------------+------------------+-------------------+------------------+\n",
    "# |summary|           replies|          retweets|             likes|          PriceDiff|             count|\n",
    "# +-------+------------------+------------------+------------------+-------------------+------------------+\n",
    "# |  count|           1647561|           1647561|           1647561|            1647498|           1647561|\n",
    "# |   mean|0.5312986893960223|1.4996561584062744|3.0544793182164423|  13.56759761591313| 5785.459591480983|\n",
    "# | stddev|18.117946848046035| 39.33543263630934| 57.47601852602754|   377.235885850461|15073.494239893986|\n",
    "# |    min|                 0|                 0|                 0|-2462.9357976494157|                 1|\n",
    "# |    max|                99|               997|               998|  2197.128696507658|            101531|\n",
    "# +-------+------------------+------------------+------------------+-------------------+------------------+"
   ]
  },
  {
   "cell_type": "code",
   "execution_count": 61,
   "metadata": {},
   "outputs": [],
   "source": [
    "hash_bitcoin = final_cts.filter(col(\"text\").contains(\"#bitcoin\"))\n",
    "# hash_bitcoin.describe(['replies', 'retweets', 'likes', 'PriceDiff', 'count']).show()\n",
    "# +-------+-------------------+------------------+------------------+-------------------+------------------+\n",
    "# |summary|            replies|          retweets|             likes|          PriceDiff|             count|\n",
    "# +-------+-------------------+------------------+------------------+-------------------+------------------+\n",
    "# |  count|            2121253|           2121253|           2121253|            2120180|           2121253|\n",
    "# |   mean|0.11580089692271502|0.5327846324790112| 1.058098208935945|   4.57758285454221|21571.610171912544|\n",
    "# | stddev|  4.143313673401526|14.475278976438265|26.650636084847324|  325.4481611722995|  40856.9358708947|\n",
    "# |    min|                  0|                 0|                 0|-2462.9357976494157|                 1|\n",
    "# |    max|                 99|              9976|               998|  2197.128696507658|            146639|\n",
    "# +-------+-------------------+------------------+------------------+-------------------+------------------+"
   ]
  },
  {
   "cell_type": "code",
   "execution_count": 62,
   "metadata": {},
   "outputs": [],
   "source": [
    "hash_btc = final_cts.filter(col(\"text\").contains(\"#btc\"))\n",
    "# hash_btc.describe(['replies', 'retweets', 'likes', 'PriceDiff', 'count']).show()\n",
    "# +-------+------------------+------------------+------------------+-------------------+------------------+\n",
    "# |summary|           replies|          retweets|             likes|          PriceDiff|             count|\n",
    "# +-------+------------------+------------------+------------------+-------------------+------------------+\n",
    "# |  count|            787775|            787775|            787775|             786958|            787775|\n",
    "# |   mean|0.0805141061851417|0.4958433562882803|0.6458798514804354|  8.697840548513406|40052.697708101936|\n",
    "# | stddev| 3.524918239461035| 13.66988899953724| 17.89481179433489|  314.0834627298498| 55962.71911495728|\n",
    "# |    min|                 0|                 0|                 0|-2462.9357976494157|                 1|\n",
    "# |    max|               986|                99|               994|  2197.128696507658|            146639|\n",
    "# +-------+------------------+------------------+------------------+-------------------+------------------+"
   ]
  },
  {
   "cell_type": "code",
   "execution_count": 63,
   "metadata": {},
   "outputs": [],
   "source": [
    "invest = final_cts.filter(col(\"text\").contains(\"invest\"))\n",
    "# invest.describe(['replies', 'retweets', 'likes', 'PriceDiff', 'count']).show()\n",
    "# +-------+------------------+-----------------+------------------+-------------------+------------------+\n",
    "# |summary|           replies|         retweets|             likes|          PriceDiff|             count|\n",
    "# +-------+------------------+-----------------+------------------+-------------------+------------------+\n",
    "# |  count|            395359|           395359|            395359|             395357|            395359|\n",
    "# |   mean|0.2274059778580986|1.041569813764199|3.1807572358287026| 0.8036899158951533|13327.341089996686|\n",
    "# | stddev| 9.658301128918001|82.15536179882766| 316.1176802568857| 358.27007368248354| 31245.41349505049|\n",
    "# |    min|                 0|                0|                 0|-2462.9357976494157|                 1|\n",
    "# |    max|                99|               99|               995|  2197.128696507658|            101531|\n",
    "# +-------+------------------+-----------------+------------------+-------------------+------------------+"
   ]
  },
  {
   "cell_type": "code",
   "execution_count": 64,
   "metadata": {},
   "outputs": [],
   "source": [
    "crypto = final_cts.filter(col(\"text\").contains(\"crypto\"))\n",
    "# crypto.describe(['replies', 'retweets', 'likes', 'PriceDiff', 'count']).show()\n",
    "# +-------+-------------------+------------------+------------------+-------------------+-----------------+\n",
    "# |summary|            replies|          retweets|             likes|          PriceDiff|            count|\n",
    "# +-------+-------------------+------------------+------------------+-------------------+-----------------+\n",
    "# |  count|            1739811|           1739811|           1739811|            1739804|          1739811|\n",
    "# |   mean|0.20126266588727165|0.7322576992558387|1.6819987918227899|-0.7505818553041735|7745.753985921459|\n",
    "# | stddev|  7.296289400027821| 18.90324752004964|54.058605752419396|  354.0277177146568|18613.70934615795|\n",
    "# |    min|                  0|                 0|                 0|-2462.9357976494157|                1|\n",
    "# |    max|                 99|                99|               998|  2197.128696507658|           101531|\n",
    "# +-------+-------------------+------------------+------------------+-------------------+-----------------+"
   ]
  },
  {
   "cell_type": "code",
   "execution_count": 65,
   "metadata": {},
   "outputs": [],
   "source": [
    "tweets50 = final_cts.filter(col(\"count\") >= 50)\n",
    "# tweets50.describe(['replies', 'retweets', 'likes', 'PriceDiff', 'count']).show()\n",
    "# +-------+-------------------+------------------+------------------+-------------------+------------------+\n",
    "# |summary|            replies|          retweets|             likes|          PriceDiff|             count|\n",
    "# +-------+-------------------+------------------+------------------+-------------------+------------------+\n",
    "# |  count|           12337431|          12337431|          12337431|           12335874|          12337431|\n",
    "# |   mean|0.27678906573013456|0.8648335297680693|2.4810300458823233|   5.80792630727241| 10415.94499511284|\n",
    "# | stddev|  6.948142969405009| 22.37967930854908|55.116161811569796|  344.0563124656468|21936.831876883487|\n",
    "# |    min|                  0|                 0|                 0|-2462.9357976494157|                50|\n",
    "# |    max|                 99|               998|               999|  2197.128696507658|            146639|\n",
    "# +-------+-------------------+------------------+------------------+-------------------+------------------+"
   ]
  },
  {
   "cell_type": "code",
   "execution_count": 66,
   "metadata": {},
   "outputs": [],
   "source": [
    "tweets5000 = final_cts.filter(col(\"count\") >= 5000)\n",
    "# tweets5000.describe(['replies', 'retweets', 'likes', 'PriceDiff', 'count']).show()\n",
    "# +-------+--------------------+-------------------+-------------------+-------------------+------------------+\n",
    "# |summary|             replies|           retweets|              likes|          PriceDiff|             count|\n",
    "# +-------+--------------------+-------------------+-------------------+-------------------+------------------+\n",
    "# |  count|             4251157|            4251157|            4251157|            4249723|           4251157|\n",
    "# |   mean|0.012693015101535888|0.24101815105864122|0.22866292635157912|-0.8476888227391992|28211.138703416505|\n",
    "# | stddev|  0.3823795654669439| 3.3306755854554586|  4.172856484413112|  314.8936794686189| 30170.12774067542|\n",
    "# |    min|                   0|                  0|                  0|-2462.9357976494157|              5032|\n",
    "# |    max|                  94|                 99|                 99|  2197.128696507658|            146639|\n",
    "# +-------+--------------------+-------------------+-------------------+-------------------+------------------+"
   ]
  },
  {
   "cell_type": "code",
   "execution_count": 73,
   "metadata": {},
   "outputs": [],
   "source": [
    "bit_gained = final_cts.filter(col(\"PriceDiff\") > 0)\n",
    "# bit_gained.describe(['replies', 'retweets', 'likes', 'PriceDiff', 'count']).show()\n",
    "# +-------+------------------+------------------+------------------+--------------------+------------------+\n",
    "# |summary|           replies|          retweets|             likes|           PriceDiff|             count|\n",
    "# +-------+------------------+------------------+------------------+--------------------+------------------+\n",
    "# |  count|           8212934|           8212934|           8212934|             8212934|           8212934|\n",
    "# |   mean|0.3187524701890944|1.1136050770650294|2.8604715440304282|   247.8386738474149| 7556.159158225307|\n",
    "# | stddev|14.944356945609007| 98.14263287295066|149.18307117719397|   294.1525331840422|19237.895366675388|\n",
    "# |    min|                 0|                 0|                 0|1.615385588911166...|                 1|\n",
    "# |    max|               996|               998|               999|   2197.128696507658|            146639|\n",
    "# +-------+------------------+------------------+------------------+--------------------+------------------+"
   ]
  },
  {
   "cell_type": "code",
   "execution_count": 74,
   "metadata": {},
   "outputs": [],
   "source": [
    "bit_lost = final_cts.filter(col(\"PriceDiff\") < 0)\n",
    "# bit_lost.describe(['replies', 'retweets', 'likes', 'PriceDiff', 'count']).show()\n",
    "# +-------+------------------+------------------+------------------+--------------------+------------------+\n",
    "# |summary|           replies|          retweets|             likes|           PriceDiff|             count|\n",
    "# +-------+------------------+------------------+------------------+--------------------+------------------+\n",
    "# |  count|           8674925|           8674925|           8674925|             8674925|           8674925|\n",
    "# |   mean|0.3091585229843486|0.9857409718239639| 2.470384816007055|  -222.5250278786321| 7653.152449963544|\n",
    "# | stddev|28.881729554046192| 72.73524854779512|144.36342265127973|  248.81695393549543|19336.524160333185|\n",
    "# |    min|                 0|                 0|                 0| -2462.9357976494157|                 1|\n",
    "# |    max|               997|               999|               999|-6.18533625317496...|            146639|\n",
    "# +-------+------------------+------------------+------------------+--------------------+------------------+"
   ]
  },
  {
   "cell_type": "code",
   "execution_count": 75,
   "metadata": {},
   "outputs": [],
   "source": [
    "bit_gained500 = final_cts.filter(col(\"PriceDiff\") >= 500)\n",
    "# bit_gained500.describe(['replies', 'retweets', 'likes', 'PriceDiff', 'count']).show()\n",
    "# +-------+------------------+------------------+------------------+-----------------+------------------+\n",
    "# |summary|           replies|          retweets|             likes|        PriceDiff|             count|\n",
    "# +-------+------------------+------------------+------------------+-----------------+------------------+\n",
    "# |  count|           1137966|           1137966|           1137966|          1137966|           1137966|\n",
    "# |   mean|0.3753714961606937|1.4896455605879262| 4.017496129058338| 846.767060801361| 4369.758381181863|\n",
    "# | stddev|11.497555295047414|183.27315671928412|234.97040070439323|304.9867888797106|12281.168052765248|\n",
    "# |    min|                 0|                 0|                 0|501.3362509171857|                 1|\n",
    "# |    max|                99|               998|               998|2197.128696507658|            146639|\n",
    "# +-------+------------------+------------------+------------------+-----------------+------------------+"
   ]
  },
  {
   "cell_type": "code",
   "execution_count": 76,
   "metadata": {},
   "outputs": [],
   "source": [
    "bit_lost500 = final_cts.filter(col(\"PriceDiff\") <= -500)\n",
    "# bit_lost500.describe(['replies', 'retweets', 'likes', 'PriceDiff', 'count']).show()\n",
    "# +-------+------------------+------------------+------------------+-------------------+------------------+\n",
    "# |summary|           replies|          retweets|             likes|          PriceDiff|             count|\n",
    "# +-------+------------------+------------------+------------------+-------------------+------------------+\n",
    "# |  count|           1266683|           1266683|           1266683|            1266683|           1266683|\n",
    "# |   mean| 0.343106365207396|1.0701019907901188|2.9162079225820507| -738.5933551784783|  4931.12153474863|\n",
    "# | stddev|10.239153992899563| 52.78424188284091|184.69658507893467|  175.9353590020144|12639.194242518604|\n",
    "# |    min|                 0|                 0|                 0|-2462.9357976494157|                 1|\n",
    "# |    max|                99|                99|               996| -500.9476200223944|            146639|\n",
    "# +-------+------------------+------------------+------------------+-------------------+------------------+"
   ]
  },
  {
   "cell_type": "code",
   "execution_count": 72,
   "metadata": {},
   "outputs": [],
   "source": [
    "#final.write.csv(\"output.csv\")"
   ]
  }
 ],
 "metadata": {
  "kernelspec": {
   "display_name": "DS 5110 Spark 3.1",
   "language": "python",
   "name": "ds5110_spark3.1"
  },
  "language_info": {
   "codemirror_mode": {
    "name": "ipython",
    "version": 3
   },
   "file_extension": ".py",
   "mimetype": "text/x-python",
   "name": "python",
   "nbconvert_exporter": "python",
   "pygments_lexer": "ipython3",
   "version": "3.7.10"
  }
 },
 "nbformat": 4,
 "nbformat_minor": 4
}
